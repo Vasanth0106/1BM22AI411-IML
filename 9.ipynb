{
  "nbformat": 4,
  "nbformat_minor": 0,
  "metadata": {
    "colab": {
      "provenance": []
    },
    "kernelspec": {
      "name": "python3",
      "display_name": "Python 3"
    },
    "language_info": {
      "name": "python"
    }
  },
  "cells": [
    {
      "cell_type": "code",
      "execution_count": 13,
      "metadata": {
        "id": "vEYsE9erHKoD",
        "colab": {
          "base_uri": "https://localhost:8080/"
        },
        "outputId": "5d5c547b-32e6-4fb0-c7db-8e8237485f48"
      },
      "outputs": [
        {
          "output_type": "stream",
          "name": "stdout",
          "text": [
            "Frequent Itemsets:\n",
            "     support                 itemsets\n",
            "0       1.0                  (bread)\n",
            "1       0.6                 (butter)\n",
            "2       0.4                 (cheese)\n",
            "3       0.4                   (eggs)\n",
            "4       0.8                   (milk)\n",
            "5       0.6          (butter, bread)\n",
            "6       0.4          (cheese, bread)\n",
            "7       0.4            (eggs, bread)\n",
            "8       0.8            (bread, milk)\n",
            "9       0.4         (butter, cheese)\n",
            "10      0.4           (butter, milk)\n",
            "11      0.4             (eggs, milk)\n",
            "12      0.4  (butter, cheese, bread)\n",
            "13      0.4    (butter, bread, milk)\n",
            "14      0.4      (eggs, bread, milk)\n"
          ]
        }
      ],
      "source": [
        "\n",
        "from mlxtend.frequent_patterns import apriori\n",
        "from mlxtend.preprocessing import TransactionEncoder\n",
        "import pandas as pd\n",
        "\n",
        "# Example transaction data\n",
        "transactions = [\n",
        "    ['bread', 'milk', 'eggs'],\n",
        "    ['bread', 'butter', 'cheese'],\n",
        "    ['milk', 'butter', 'bread', 'cheese'],\n",
        "    ['eggs', 'bread', 'milk'],\n",
        "    ['butter', 'milk', 'bread']\n",
        "]\n",
        "\n",
        "# Convert the transaction data to a one-hot encoded DataFrame\n",
        "te = TransactionEncoder()\n",
        "te_ary = te.fit(transactions).transform(transactions)\n",
        "df = pd.DataFrame(te_ary, columns=te.columns_)\n",
        "\n",
        "# Apply Apriori algorithm\n",
        "frequent_itemsets = apriori(df, min_support=0.4, use_colnames=True)\n",
        "\n",
        "# Display the frequent itemsets\n",
        "print(\"Frequent Itemsets:\\n\", frequent_itemsets)"
      ]
    }
  ]
}