{
  "nbformat": 4,
  "nbformat_minor": 0,
  "metadata": {
    "colab": {
      "provenance": []
    },
    "kernelspec": {
      "name": "python3",
      "display_name": "Python 3"
    },
    "language_info": {
      "name": "python"
    }
  },
  "cells": [
    {
      "cell_type": "code",
      "execution_count": 11,
      "metadata": {
        "id": "vEYsE9erHKoD",
        "colab": {
          "base_uri": "https://localhost:8080/"
        },
        "outputId": "1f5a04da-97d5-4440-ba5c-e2195f903271"
      },
      "outputs": [
        {
          "output_type": "stream",
          "name": "stdout",
          "text": [
            "Accuracy: 1.0\n"
          ]
        }
      ],
      "source": [
        "import pandas as pd\n",
        "from sklearn.model_selection import train_test_split\n",
        "from sklearn.svm import SVC\n",
        "from sklearn.preprocessing import StandardScaler\n",
        "from sklearn.metrics import accuracy_score\n",
        "\n",
        "data = pd.read_csv('iris.csv')\n",
        "\n",
        "x = data.iloc[:, :-1]\n",
        "y = data.iloc[:, -1]\n",
        "\n",
        "x = StandardScaler().fit_transform(x)\n",
        "\n",
        "x_train, x_test, y_train, y_test = train_test_split(x, y, test_size=0.2, random_state=42)\n",
        "\n",
        "clf = SVC(kernel='rbf')\n",
        "\n",
        "model = clf.fit(x_train, y_train)\n",
        "\n",
        "prediction = model.predict(x_test)\n",
        "\n",
        "accuracy = accuracy_score(prediction, y_test)\n",
        "\n",
        "print(\"Accuracy:\",accuracy)\n"
      ]
    }
  ]
}